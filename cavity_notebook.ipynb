{
 "cells": [
  {
   "cell_type": "code",
   "execution_count": null,
   "metadata": {},
   "outputs": [],
   "source": [
    "using ITensors\n",
    "using Statistics\n",
    "using LaTeXStrings\n",
    "using NPZ\n",
    "\n",
    "include(\"functions_cavity.jl\")"
   ]
  },
  {
   "cell_type": "code",
   "execution_count": null,
   "metadata": {},
   "outputs": [],
   "source": [
    "t0=1.\n",
    "t1=1.\n",
    "t2=0.\n",
    "g=0.1\n",
    "omega_c=1.\n",
    "\n",
    "L=40\n",
    "L2=L*2\n",
    "sites= [ n==1 ? Index([QN()=>N_photon];tags=\"Boson,Site,n=$n\") : siteind(\"Fermion\",n,conserve_qns=true)  for n in 1:L2+1]\n",
    "\n",
    "E_tol=10^-8\n",
    "chi=200\n",
    "n_sweeps=40\n",
    "\n",
    "energy,psi,obs_dmrg = ladder_cavity_gs(g,omega_c,t0,t1,t2,sites;n_sweeps=n_sweeps,chi=chi,E_tol=E_tol)\n"
   ]
  },
  {
   "attachments": {},
   "cell_type": "markdown",
   "metadata": {},
   "source": [
    "Photon properties"
   ]
  },
  {
   "cell_type": "code",
   "execution_count": null,
   "metadata": {},
   "outputs": [],
   "source": [
    "#coherence <a>\n",
    "coherence=expect(psi,\"a\")[1]\n",
    "\n",
    "#light-matter entanglement\n",
    "photon_ent=compute_photon_ent(psi)\n",
    "\n",
    "#density matrix as list of schmidt eigenvectors (photon_rho) and eigenvalues (photon_lambda)\n",
    "photon_rho,photon_lambda=compute_photon_rho(psi)\n",
    "\n",
    "#wigner function\n",
    "Wigner=compute_wigner_function(photon_rho,photon_lambda)"
   ]
  },
  {
   "attachments": {},
   "cell_type": "markdown",
   "metadata": {},
   "source": [
    "Matter properties"
   ]
  },
  {
   "cell_type": "code",
   "execution_count": null,
   "metadata": {},
   "outputs": [],
   "source": [
    "#correlation matrix <cdag c>  ;  4xLxL with (+,+),(-,-),(+,-),(-+)\n",
    "cdagc_matrix=compute_correlation_matrix(psi)\n",
    "\n",
    "#dressed hopping operator\n",
    "cdagc_dressed = compute_cdagc_dressed(psi)\n",
    "\n",
    "#edge currents\n",
    "edge_currents = [imag(cdagc_matrix[3,1,1] -cdagc_matrix[3,L,L])]\n",
    "\n",
    "#chiral current\n",
    "current_chiral = sum(imag.(cdagc_dressed[1,:])-imag.(cdagc_dressed[2,:]))/L2\n",
    "current_chiral += sum(edge_currents)/L2\n"
   ]
  }
 ],
 "metadata": {
  "kernelspec": {
   "display_name": "Python 3.10.5 64-bit",
   "language": "python",
   "name": "python3"
  },
  "language_info": {
   "name": "python",
   "version": "3.10.5"
  },
  "orig_nbformat": 4,
  "vscode": {
   "interpreter": {
    "hash": "2a8dfe095fce2b5e88c64a2c3ee084c8e0e0d70b23e7b95b1cfb538be294c5c8"
   }
  }
 },
 "nbformat": 4,
 "nbformat_minor": 2
}
